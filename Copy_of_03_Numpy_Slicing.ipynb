{
  "nbformat": 4,
  "nbformat_minor": 0,
  "metadata": {
    "colab": {
      "provenance": [],
      "include_colab_link": true
    },
    "kernelspec": {
      "name": "python3",
      "display_name": "Python 3"
    },
    "language_info": {
      "name": "python"
    }
  },
  "cells": [
    {
      "cell_type": "markdown",
      "metadata": {
        "id": "view-in-github",
        "colab_type": "text"
      },
      "source": [
        "<a href=\"https://colab.research.google.com/github/Seblao/Projet-Air-BnB/blob/main/Copy_of_03_Numpy_Slicing.ipynb\" target=\"_parent\"><img src=\"https://colab.research.google.com/assets/colab-badge.svg\" alt=\"Open In Colab\"/></a>"
      ]
    },
    {
      "cell_type": "code",
      "execution_count": null,
      "metadata": {
        "id": "oAgzIe8SHxxF"
      },
      "outputs": [],
      "source": [
        "import numpy as np"
      ]
    },
    {
      "cell_type": "markdown",
      "source": [
        "Execute the cell below before starting the 1st mission."
      ],
      "metadata": {
        "id": "B2WKsy0JKfwk"
      }
    },
    {
      "cell_type": "code",
      "source": [
        "array_1 = np.array([10, 40, 45,  5, 66, 91, 43, 75, 40, 28, 55, 45, 31, 71, 67, 54, 54,\n",
        "       35, 64, 27, 12, 93, 17, 91, 50, 57, 74, 61, 86, 20, 36, 35])\n",
        "\n",
        "array_1\n",
        "array_1.shape"
      ],
      "metadata": {
        "colab": {
          "base_uri": "https://localhost:8080/"
        },
        "id": "v301-QT9KHHn",
        "outputId": "e95a45de-2d7a-4ddc-8542-86fcf6dd2317"
      },
      "execution_count": null,
      "outputs": [
        {
          "output_type": "execute_result",
          "data": {
            "text/plain": [
              "(32,)"
            ]
          },
          "metadata": {},
          "execution_count": 39
        }
      ]
    },
    {
      "cell_type": "markdown",
      "source": [
        "# Mission 1"
      ],
      "metadata": {
        "id": "ZAXuwsahKkiR"
      }
    },
    {
      "cell_type": "markdown",
      "source": [
        "Using Numpy, how many axes `array_1` has ?\n",
        "\n",
        "\n"
      ],
      "metadata": {
        "id": "yrkLENtQKpNb"
      }
    },
    {
      "cell_type": "code",
      "source": [
        "# Array 1 possède 1 seul axe car 1 seule dimension puisque présence que d'1 seule ligne ici.\n",
        "\n",
        "array_1[10]"
      ],
      "metadata": {
        "id": "HQP8v-MrgELK",
        "outputId": "c47f41ba-23d7-4e54-dc7f-e9cfc56d2ab6",
        "colab": {
          "base_uri": "https://localhost:8080/"
        }
      },
      "execution_count": null,
      "outputs": [
        {
          "output_type": "execute_result",
          "data": {
            "text/plain": [
              "55"
            ]
          },
          "metadata": {},
          "execution_count": 40
        }
      ]
    },
    {
      "cell_type": "markdown",
      "source": [
        "Still using Numpy, how many dimensions `array_1` has?"
      ],
      "metadata": {
        "id": "UalGJQxz33yA"
      }
    },
    {
      "cell_type": "code",
      "source": [
        "# Array_1 ne possède qu'une dimension car ici nous n'avons qu'1 seule ligne de valeurs.\n",
        "\n",
        "array_1[20]"
      ],
      "metadata": {
        "id": "y26JYHgCgJqT",
        "outputId": "c65cf699-4285-4093-c9dd-fae47739d281",
        "colab": {
          "base_uri": "https://localhost:8080/"
        }
      },
      "execution_count": null,
      "outputs": [
        {
          "output_type": "execute_result",
          "data": {
            "text/plain": [
              "12"
            ]
          },
          "metadata": {},
          "execution_count": 41
        }
      ]
    },
    {
      "cell_type": "markdown",
      "source": [
        "Display the first element of `array_1`"
      ],
      "metadata": {
        "id": "FigiIh9o4PZ2"
      }
    },
    {
      "cell_type": "code",
      "source": [
        "array_1[0]"
      ],
      "metadata": {
        "id": "baOmyxdDgNh-",
        "outputId": "60e849b6-aa8e-4d99-82f6-b1d6c852412e",
        "colab": {
          "base_uri": "https://localhost:8080/"
        }
      },
      "execution_count": null,
      "outputs": [
        {
          "output_type": "execute_result",
          "data": {
            "text/plain": [
              "10"
            ]
          },
          "metadata": {},
          "execution_count": 42
        }
      ]
    },
    {
      "cell_type": "markdown",
      "source": [
        "# Mission 2"
      ],
      "metadata": {
        "id": "XgHAtDey4ecq"
      }
    },
    {
      "cell_type": "markdown",
      "source": [
        "Modify, using a `numpy` method, the `array_1` object to be an object that has two axes, including 1 row and 32 columns.  \n",
        "Save it under the variable `array_2`."
      ],
      "metadata": {
        "id": "jiooiSHv4f-u"
      }
    },
    {
      "cell_type": "code",
      "source": [
        "array_1_reshape = array_1.reshape(1, 32)\n",
        "array_2 = array_1_reshape\n",
        "\n",
        "array_2\n",
        "array_2.shape"
      ],
      "metadata": {
        "id": "IV96vGr0gPNH",
        "outputId": "229dbe27-9604-4057-9191-719a103406b1",
        "colab": {
          "base_uri": "https://localhost:8080/"
        }
      },
      "execution_count": null,
      "outputs": [
        {
          "output_type": "execute_result",
          "data": {
            "text/plain": [
              "(1, 32)"
            ]
          },
          "metadata": {},
          "execution_count": 43
        }
      ]
    },
    {
      "cell_type": "markdown",
      "source": [
        "Now, modify `array_1` into an object that has 32 rows and only 1 column.  \n",
        "Save it under the variable `array_3`."
      ],
      "metadata": {
        "id": "pPrJF4lh4-nU"
      }
    },
    {
      "cell_type": "code",
      "source": [
        "array_1_reshape = array_1.reshape(32, 1)\n",
        "array_3 = array_1_reshape\n",
        "\n",
        "array_3.shape"
      ],
      "metadata": {
        "id": "NUOuSHC-gQj8",
        "outputId": "a5648ca3-2ea9-41f5-a05d-1529aa0d32d4",
        "colab": {
          "base_uri": "https://localhost:8080/"
        }
      },
      "execution_count": null,
      "outputs": [
        {
          "output_type": "execute_result",
          "data": {
            "text/plain": [
              "(32, 1)"
            ]
          },
          "metadata": {},
          "execution_count": 44
        }
      ]
    },
    {
      "cell_type": "markdown",
      "source": [
        "Access the first element of `array_2`, then of `array_3`.  \n",
        "What do you notice?  \n",
        "Why ?"
      ],
      "metadata": {
        "id": "m1MNZ-G255JC"
      }
    },
    {
      "cell_type": "code",
      "source": [
        "array_2[0]"
      ],
      "metadata": {
        "id": "OvdCAGBDgRxL",
        "outputId": "47a0ccdb-eb9e-405d-8fd6-2522110e6175",
        "colab": {
          "base_uri": "https://localhost:8080/"
        }
      },
      "execution_count": null,
      "outputs": [
        {
          "output_type": "execute_result",
          "data": {
            "text/plain": [
              "array([10, 40, 45,  5, 66, 91, 43, 75, 40, 28, 55, 45, 31, 71, 67, 54, 54,\n",
              "       35, 64, 27, 12, 93, 17, 91, 50, 57, 74, 61, 86, 20, 36, 35])"
            ]
          },
          "metadata": {},
          "execution_count": 45
        }
      ]
    },
    {
      "cell_type": "code",
      "source": [
        "array_3[0]"
      ],
      "metadata": {
        "id": "QyqMJUsb-Z7q",
        "outputId": "63878fd5-f338-4ad5-8f5d-760be8a932ae",
        "colab": {
          "base_uri": "https://localhost:8080/"
        }
      },
      "execution_count": null,
      "outputs": [
        {
          "output_type": "execute_result",
          "data": {
            "text/plain": [
              "array([10])"
            ]
          },
          "metadata": {},
          "execution_count": 46
        }
      ]
    },
    {
      "cell_type": "code",
      "source": [
        "# On remarque que l'on obtient pas la meme chose. C'est normal car dans array_2, on appelle la ligne entière avec ces 32 colonnes alors que dans array_3, il n'y a qu'une seule colonne. D'où le résultat différent."
      ],
      "metadata": {
        "id": "yOe9ADnq-huy"
      },
      "execution_count": null,
      "outputs": []
    },
    {
      "cell_type": "markdown",
      "source": [
        "# Mission 3"
      ],
      "metadata": {
        "id": "zjxwDouC66FZ"
      }
    },
    {
      "cell_type": "markdown",
      "source": [
        "Access the value that is at index 3 of array `array_2`.  \n",
        "Do it with Numpy way, then with Python way."
      ],
      "metadata": {
        "id": "BE6DnozV67pW"
      }
    },
    {
      "cell_type": "code",
      "source": [
        "array_2 = np.array([10, 40, 45,  5, 66, 91, 43, 75, 40, 28, 55, 45, 31, 71, 67, 54, 54,\n",
        "       35, 64, 27, 12, 93, 17, 91, 50, 57, 74, 61, 86, 20, 36, 35])\n",
        "\n",
        "index_3 = array_2[3]\n",
        "\n",
        "index_3"
      ],
      "metadata": {
        "id": "FlduHmRmgS_v",
        "outputId": "6cbfcc86-e916-4577-95a4-243419868e12",
        "colab": {
          "base_uri": "https://localhost:8080/"
        }
      },
      "execution_count": null,
      "outputs": [
        {
          "output_type": "execute_result",
          "data": {
            "text/plain": [
              "5"
            ]
          },
          "metadata": {},
          "execution_count": 48
        }
      ]
    },
    {
      "cell_type": "code",
      "source": [
        "array_2 = np.array([10, 40, 45,  5, 66, 91, 43, 75, 40, 28, 55, 45, 31, 71, 67, 54, 54,\n",
        "       35, 64, 27, 12, 93, 17, 91, 50, 57, 74, 61, 86, 20, 36, 35])\n",
        "\n",
        "liste_array_2 = list(array_2)\n",
        "\n",
        "index_3 = liste_array_2[3]\n",
        "\n",
        "index_3"
      ],
      "metadata": {
        "id": "Pqx_spJbBBeX",
        "outputId": "a84d741d-9b18-45b1-fe34-a82594a49ca7",
        "colab": {
          "base_uri": "https://localhost:8080/"
        }
      },
      "execution_count": null,
      "outputs": [
        {
          "output_type": "execute_result",
          "data": {
            "text/plain": [
              "5"
            ]
          },
          "metadata": {},
          "execution_count": 49
        }
      ]
    },
    {
      "cell_type": "markdown",
      "source": [
        "Access the value which is at index 3 of array `array_3` in Numpy."
      ],
      "metadata": {
        "id": "umMUOSLM7y5j"
      }
    },
    {
      "cell_type": "code",
      "source": [
        "array_3\n",
        "\n",
        "index_3 = array_3[3, 0]\n",
        "\n",
        "index_3"
      ],
      "metadata": {
        "id": "cCcW9LcMgURK",
        "outputId": "020ac5e7-29b4-4e14-a487-57b133accb92",
        "colab": {
          "base_uri": "https://localhost:8080/"
        }
      },
      "execution_count": null,
      "outputs": [
        {
          "output_type": "execute_result",
          "data": {
            "text/plain": [
              "5"
            ]
          },
          "metadata": {},
          "execution_count": 50
        }
      ]
    },
    {
      "cell_type": "code",
      "source": [
        "# En python natif :\n",
        "array_3\n",
        "\n",
        "liste_array_3 = array_3[:, 0].tolist()\n",
        "\n",
        "index_3 = liste_array_3[3]\n",
        "\n",
        "index_3"
      ],
      "metadata": {
        "id": "LxuyrQntVOvO",
        "outputId": "b13e13c0-39b4-4d01-9da5-e63516ed418e",
        "colab": {
          "base_uri": "https://localhost:8080/"
        }
      },
      "execution_count": null,
      "outputs": [
        {
          "output_type": "execute_result",
          "data": {
            "text/plain": [
              "5"
            ]
          },
          "metadata": {},
          "execution_count": 51
        }
      ]
    },
    {
      "cell_type": "markdown",
      "source": [
        "# Mission 4"
      ],
      "metadata": {
        "id": "wDgUXd2GFxTG"
      }
    },
    {
      "cell_type": "markdown",
      "source": [
        "Reshape `array_1` to be a 4-row, 8-column array,\n",
        "rather than a 32-element vector.  \n",
        "Save your array under the variable `array_4`."
      ],
      "metadata": {
        "id": "A9lWaV2MF47x"
      }
    },
    {
      "cell_type": "code",
      "source": [
        "array_1 = np.array([10, 40, 45,  5, 66, 91, 43, 75, 40, 28, 55, 45, 31, 71, 67, 54, 54,\n",
        "       35, 64, 27, 12, 93, 17, 91, 50, 57, 74, 61, 86, 20, 36, 35])\n",
        "\n",
        "array_4 = array_1.reshape(4, 8)\n",
        "\n",
        "array_4"
      ],
      "metadata": {
        "id": "5xcE1Ao-gVOM",
        "outputId": "bf2f6a9f-1381-4448-b940-451e86b0b633",
        "colab": {
          "base_uri": "https://localhost:8080/"
        }
      },
      "execution_count": null,
      "outputs": [
        {
          "output_type": "execute_result",
          "data": {
            "text/plain": [
              "array([[10, 40, 45,  5, 66, 91, 43, 75],\n",
              "       [40, 28, 55, 45, 31, 71, 67, 54],\n",
              "       [54, 35, 64, 27, 12, 93, 17, 91],\n",
              "       [50, 57, 74, 61, 86, 20, 36, 35]])"
            ]
          },
          "metadata": {},
          "execution_count": 52
        }
      ]
    },
    {
      "cell_type": "markdown",
      "source": [
        "Access for each row, the values ​​of the columns which have the index 1 to 2 included."
      ],
      "metadata": {
        "id": "e7li0x-9HJRj"
      }
    },
    {
      "cell_type": "code",
      "source": [
        "colonne_1_2 = array_4[:, 1:3]\n",
        "\n",
        "colonne_1_2"
      ],
      "metadata": {
        "id": "iCTmSBdhgWSy",
        "outputId": "3bd82ccb-5a2d-4dc6-8328-d5cc7078ccaf",
        "colab": {
          "base_uri": "https://localhost:8080/"
        }
      },
      "execution_count": null,
      "outputs": [
        {
          "output_type": "execute_result",
          "data": {
            "text/plain": [
              "array([[40, 45],\n",
              "       [28, 55],\n",
              "       [35, 64],\n",
              "       [57, 74]])"
            ]
          },
          "metadata": {},
          "execution_count": 53
        }
      ]
    },
    {
      "cell_type": "markdown",
      "source": [
        "Access for rows at position 1 and 2 inclusive, the values ​​of all columns."
      ],
      "metadata": {
        "id": "dhImhpqRIkfm"
      }
    },
    {
      "cell_type": "code",
      "source": [
        "array_4\n",
        "ligne_1_2 = array_4[0:2, :]\n",
        "\n",
        "ligne_1_2"
      ],
      "metadata": {
        "id": "4hNN6Z8egZsH",
        "outputId": "159eeacc-4a9f-456d-a8a1-c6cc7b1ed667",
        "colab": {
          "base_uri": "https://localhost:8080/"
        }
      },
      "execution_count": null,
      "outputs": [
        {
          "output_type": "execute_result",
          "data": {
            "text/plain": [
              "array([[10, 40, 45,  5, 66, 91, 43, 75],\n",
              "       [40, 28, 55, 45, 31, 71, 67, 54]])"
            ]
          },
          "metadata": {},
          "execution_count": 54
        }
      ]
    },
    {
      "cell_type": "markdown",
      "source": [
        "Access for the rows which have the index 2 to 3 inclusive, to the values ​​of the columns which have the index 3 to 5 inclusive."
      ],
      "metadata": {
        "id": "r74v4LSWIJTS"
      }
    },
    {
      "cell_type": "code",
      "source": [
        "array_4"
      ],
      "metadata": {
        "id": "QfwM6Fp3Kgnn",
        "outputId": "316b04e6-7c7f-43e9-f776-6572e9c732ea",
        "colab": {
          "base_uri": "https://localhost:8080/"
        }
      },
      "execution_count": null,
      "outputs": [
        {
          "output_type": "execute_result",
          "data": {
            "text/plain": [
              "array([[10, 40, 45,  5, 66, 91, 43, 75],\n",
              "       [40, 28, 55, 45, 31, 71, 67, 54],\n",
              "       [54, 35, 64, 27, 12, 93, 17, 91],\n",
              "       [50, 57, 74, 61, 86, 20, 36, 35]])"
            ]
          },
          "metadata": {},
          "execution_count": 55
        }
      ]
    },
    {
      "cell_type": "code",
      "source": [
        "ligne_2_3 = array_4[1:3, 2:5]\n",
        "\n",
        "ligne_2_3"
      ],
      "metadata": {
        "id": "6nHMvCV3ga5z",
        "outputId": "9d563ff4-54ed-4c1b-c5e3-73be68638f67",
        "colab": {
          "base_uri": "https://localhost:8080/"
        }
      },
      "execution_count": null,
      "outputs": [
        {
          "output_type": "execute_result",
          "data": {
            "text/plain": [
              "array([[55, 45, 31],\n",
              "       [64, 27, 12]])"
            ]
          },
          "metadata": {},
          "execution_count": 56
        }
      ]
    },
    {
      "cell_type": "markdown",
      "source": [
        "Select the first column, as well as the columns whose index is a multiple of 2."
      ],
      "metadata": {
        "id": "04wOFcQ7LScR"
      }
    },
    {
      "cell_type": "code",
      "source": [
        "selected_columns = array_4[:, [0, 2, 4, 6]]\n",
        "\n",
        "selected_columns"
      ],
      "metadata": {
        "id": "3cCJG_uQgb5-",
        "outputId": "1a72612d-63a7-4267-c862-43d6a20f2108",
        "colab": {
          "base_uri": "https://localhost:8080/"
        }
      },
      "execution_count": null,
      "outputs": [
        {
          "output_type": "execute_result",
          "data": {
            "text/plain": [
              "array([[10, 45, 66, 43],\n",
              "       [40, 55, 31, 67],\n",
              "       [54, 64, 12, 17],\n",
              "       [50, 74, 86, 36]])"
            ]
          },
          "metadata": {},
          "execution_count": 57
        }
      ]
    },
    {
      "cell_type": "markdown",
      "source": [
        "Select columns whose index is odd."
      ],
      "metadata": {
        "id": "RiB2pjaeL3Fr"
      }
    },
    {
      "cell_type": "code",
      "source": [
        "selected_columns = array_4[:, 1::2]\n",
        "\n",
        "selected_columns"
      ],
      "metadata": {
        "id": "7XtaV4xGgev1",
        "outputId": "0d14bb89-fa06-49d9-d5b6-dc892655c082",
        "colab": {
          "base_uri": "https://localhost:8080/"
        }
      },
      "execution_count": null,
      "outputs": [
        {
          "output_type": "execute_result",
          "data": {
            "text/plain": [
              "array([[40,  5, 91, 75],\n",
              "       [28, 45, 71, 54],\n",
              "       [35, 27, 93, 91],\n",
              "       [57, 61, 20, 35]])"
            ]
          },
          "metadata": {},
          "execution_count": 58
        }
      ]
    },
    {
      "cell_type": "markdown",
      "source": [
        "# Mission 5"
      ],
      "metadata": {
        "id": "YN3Nm1cnPNbO"
      }
    },
    {
      "cell_type": "markdown",
      "source": [
        "Reshape your `array_1` vector into a 3-dimensional array.\n",
        "Your 3-dimensional array should have 2 matrices, each of which has 4 rows and 4 columns.\n",
        "Save your array under the variable `array_5`."
      ],
      "metadata": {
        "id": "nRqB_vIZPSF_"
      }
    },
    {
      "cell_type": "code",
      "source": [
        "array_5d = array_1.reshape(2, 4, 4)\n",
        "\n",
        "array_5d"
      ],
      "metadata": {
        "id": "sZtizWIxgftT",
        "outputId": "05caa1bf-063e-48b6-adf5-e4b61bcb14f0",
        "colab": {
          "base_uri": "https://localhost:8080/"
        }
      },
      "execution_count": null,
      "outputs": [
        {
          "output_type": "execute_result",
          "data": {
            "text/plain": [
              "array([[[10, 40, 45,  5],\n",
              "        [66, 91, 43, 75],\n",
              "        [40, 28, 55, 45],\n",
              "        [31, 71, 67, 54]],\n",
              "\n",
              "       [[54, 35, 64, 27],\n",
              "        [12, 93, 17, 91],\n",
              "        [50, 57, 74, 61],\n",
              "        [86, 20, 36, 35]]])"
            ]
          },
          "metadata": {},
          "execution_count": 59
        }
      ]
    },
    {
      "cell_type": "markdown",
      "source": [
        "Use the .shape attribute to observe the number of axes for `array_5`."
      ],
      "metadata": {
        "id": "c5bKE_q2QVTU"
      }
    },
    {
      "cell_type": "code",
      "source": [
        "array_5d.shape"
      ],
      "metadata": {
        "id": "tf6-0qrlggsF",
        "outputId": "9b227eb8-919d-4e12-993b-f7764f37bc71",
        "colab": {
          "base_uri": "https://localhost:8080/"
        }
      },
      "execution_count": null,
      "outputs": [
        {
          "output_type": "execute_result",
          "data": {
            "text/plain": [
              "(2, 4, 4)"
            ]
          },
          "metadata": {},
          "execution_count": 60
        }
      ]
    },
    {
      "cell_type": "markdown",
      "source": [
        "Select all values ​​from the first matrix."
      ],
      "metadata": {
        "id": "sk3eOLAxR4p7"
      }
    },
    {
      "cell_type": "code",
      "source": [
        "first_matrice = array_5d[0]\n",
        "\n",
        "first_matrice"
      ],
      "metadata": {
        "id": "kuCkwm2wghrE",
        "outputId": "f4bf625f-1920-400a-f429-2e86eddb5b1f",
        "colab": {
          "base_uri": "https://localhost:8080/"
        }
      },
      "execution_count": null,
      "outputs": [
        {
          "output_type": "execute_result",
          "data": {
            "text/plain": [
              "array([[10, 40, 45,  5],\n",
              "       [66, 91, 43, 75],\n",
              "       [40, 28, 55, 45],\n",
              "       [31, 71, 67, 54]])"
            ]
          },
          "metadata": {},
          "execution_count": 61
        }
      ]
    },
    {
      "cell_type": "markdown",
      "source": [
        "Access for both matrices,\n",
        "to the values ​​corresponding to the rows at index 1 and to the columns that have positions 3 and 4."
      ],
      "metadata": {
        "id": "JrU1RDIPQhpE"
      }
    },
    {
      "cell_type": "code",
      "source": [
        "array_5d"
      ],
      "metadata": {
        "id": "joMkWnTXIzBo",
        "outputId": "301b72c8-92bd-435e-e407-71f28d8db760",
        "colab": {
          "base_uri": "https://localhost:8080/"
        }
      },
      "execution_count": null,
      "outputs": [
        {
          "output_type": "execute_result",
          "data": {
            "text/plain": [
              "array([[[10, 40, 45,  5],\n",
              "        [66, 91, 43, 75],\n",
              "        [40, 28, 55, 45],\n",
              "        [31, 71, 67, 54]],\n",
              "\n",
              "       [[54, 35, 64, 27],\n",
              "        [12, 93, 17, 91],\n",
              "        [50, 57, 74, 61],\n",
              "        [86, 20, 36, 35]]])"
            ]
          },
          "metadata": {},
          "execution_count": 79
        }
      ]
    },
    {
      "cell_type": "code",
      "source": [
        "ligne_1 = array_5d[0:2, 1, 2:4]\n",
        "\n",
        "ligne_1"
      ],
      "metadata": {
        "id": "9r9PKEExgi8m",
        "outputId": "626a3977-d55c-4edf-8dab-d6d8ccdcc226",
        "colab": {
          "base_uri": "https://localhost:8080/"
        }
      },
      "execution_count": null,
      "outputs": [
        {
          "output_type": "execute_result",
          "data": {
            "text/plain": [
              "array([[43, 75],\n",
              "       [17, 91]])"
            ]
          },
          "metadata": {},
          "execution_count": 85
        }
      ]
    },
    {
      "cell_type": "markdown",
      "source": [
        "Access row values ​​at positions 2 to 3,\n",
        "columns at indexes 1 to 3 included for the second matrix only."
      ],
      "metadata": {
        "id": "O4Nbgj7zRfm5"
      }
    },
    {
      "cell_type": "code",
      "source": [
        "array_5d"
      ],
      "metadata": {
        "id": "xYaqgz_2Gnfx",
        "outputId": "f6c35fdc-9008-4189-ac94-af7abb7edd5b",
        "colab": {
          "base_uri": "https://localhost:8080/"
        }
      },
      "execution_count": null,
      "outputs": [
        {
          "output_type": "execute_result",
          "data": {
            "text/plain": [
              "array([[[10, 40, 45,  5],\n",
              "        [66, 91, 43, 75],\n",
              "        [40, 28, 55, 45],\n",
              "        [31, 71, 67, 54]],\n",
              "\n",
              "       [[54, 35, 64, 27],\n",
              "        [12, 93, 17, 91],\n",
              "        [50, 57, 74, 61],\n",
              "        [86, 20, 36, 35]]])"
            ]
          },
          "metadata": {},
          "execution_count": 67
        }
      ]
    },
    {
      "cell_type": "code",
      "source": [
        "second_matrice = array_5d[1, 2:4, 1:4]\n",
        "\n",
        "second_matrice"
      ],
      "metadata": {
        "id": "C6M1IAmlgkJA",
        "outputId": "a19d3768-ffc5-46df-f053-bd96856e1c71",
        "colab": {
          "base_uri": "https://localhost:8080/"
        }
      },
      "execution_count": null,
      "outputs": [
        {
          "output_type": "execute_result",
          "data": {
            "text/plain": [
              "array([[57, 74, 61],\n",
              "       [20, 36, 35]])"
            ]
          },
          "metadata": {},
          "execution_count": 65
        }
      ]
    },
    {
      "cell_type": "markdown",
      "source": [
        "\n",
        "Reshape `array_5` so that we have 8 rows and 4 columns."
      ],
      "metadata": {
        "id": "odAFpIAwSB-F"
      }
    },
    {
      "cell_type": "code",
      "source": [
        "array_new_5d = array_5d.reshape(8, 4)\n",
        "\n",
        "array_new_5d"
      ],
      "metadata": {
        "id": "0OvfG5ffglMa",
        "outputId": "93e1f26e-af86-455d-d24a-af5cf4ba1e55",
        "colab": {
          "base_uri": "https://localhost:8080/"
        }
      },
      "execution_count": null,
      "outputs": [
        {
          "output_type": "execute_result",
          "data": {
            "text/plain": [
              "array([[10, 40, 45,  5],\n",
              "       [66, 91, 43, 75],\n",
              "       [40, 28, 55, 45],\n",
              "       [31, 71, 67, 54],\n",
              "       [54, 35, 64, 27],\n",
              "       [12, 93, 17, 91],\n",
              "       [50, 57, 74, 61],\n",
              "       [86, 20, 36, 35]])"
            ]
          },
          "metadata": {},
          "execution_count": 75
        }
      ]
    },
    {
      "cell_type": "code",
      "source": [],
      "metadata": {
        "id": "2hSPfrjwHr0U"
      },
      "execution_count": null,
      "outputs": []
    }
  ]
}