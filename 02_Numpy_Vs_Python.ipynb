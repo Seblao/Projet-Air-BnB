{
  "nbformat": 4,
  "nbformat_minor": 0,
  "metadata": {
    "colab": {
      "provenance": [],
      "include_colab_link": true
    },
    "kernelspec": {
      "name": "python3",
      "display_name": "Python 3"
    },
    "language_info": {
      "name": "python"
    }
  },
  "cells": [
    {
      "cell_type": "markdown",
      "metadata": {
        "id": "view-in-github",
        "colab_type": "text"
      },
      "source": [
        "<a href=\"https://colab.research.google.com/github/Seblao/Projet-Air-BnB/blob/main/02_Numpy_Vs_Python.ipynb\" target=\"_parent\"><img src=\"https://colab.research.google.com/assets/colab-badge.svg\" alt=\"Open In Colab\"/></a>"
      ]
    },
    {
      "cell_type": "markdown",
      "source": [
        "## Vectorized operations"
      ],
      "metadata": {
        "id": "8msPqS8imUVt"
      }
    },
    {
      "cell_type": "markdown",
      "source": [
        "As you could see in the quest, one of the great strengths of Numpy are the vectorized operations. Numpy will not perform loops to do calculations, but rather perform operations in parallel.   \n",
        "You can look at it this way:  \n",
        "* Python --> loop --> serial (actions one after the other)\n",
        "* Numpy --> vectorized operation --> in parallel (actions next to each other)"
      ],
      "metadata": {
        "id": "3UxDqS97mXiv"
      }
    },
    {
      "cell_type": "markdown",
      "source": [
        "# Mission 1"
      ],
      "metadata": {
        "id": "jPO68Q9pnUIy"
      }
    },
    {
      "cell_type": "markdown",
      "source": [
        "Considering the object below, we want to calculate the sum for each row.  \n",
        "That is, return the sum of `12 + 5`, then `8 + 32` etc...  \n",
        "Find a way to return the sums of the 4 rows in a list, coding in Python. You must have 4 values in this list."
      ],
      "metadata": {
        "id": "4WffbDfcnwkZ"
      }
    },
    {
      "cell_type": "code",
      "source": [
        "my_list = [\n",
        "           [12,5],\n",
        "           [8,32],\n",
        "           [25,6],\n",
        "           [7,14]\n",
        "]\n",
        "\n",
        "somme_ligne = [sum(ligne) for ligne in my_list]\n",
        "\n",
        "somme_ligne\n"
      ],
      "metadata": {
        "id": "Rkvky1nUmHj_",
        "colab": {
          "base_uri": "https://localhost:8080/"
        },
        "outputId": "33cc2297-1797-49ff-c964-54dcab830f9e"
      },
      "execution_count": 8,
      "outputs": [
        {
          "output_type": "execute_result",
          "data": {
            "text/plain": [
              "[17, 40, 31, 21]"
            ]
          },
          "metadata": {},
          "execution_count": 8
        }
      ]
    },
    {
      "cell_type": "markdown",
      "source": [
        "Now do the same thing, but this time coding in `Numpy`.  \n",
        "`index`: You must first convert `my_list` to ndarray."
      ],
      "metadata": {
        "id": "L3WVhtI_oU6S"
      }
    },
    {
      "cell_type": "code",
      "source": [
        "import numpy as np\n",
        "\n",
        "data_np = np.array(my_list)\n",
        "somme_ligne = np.sum(data_np, axis=1)\n",
        "\n",
        "somme_ligne\n"
      ],
      "metadata": {
        "id": "HIv2CRVRob-Y",
        "colab": {
          "base_uri": "https://localhost:8080/"
        },
        "outputId": "27de761a-8021-4868-e150-d7ad20b96dbe"
      },
      "execution_count": 20,
      "outputs": [
        {
          "output_type": "execute_result",
          "data": {
            "text/plain": [
              "array([17, 40, 31, 21])"
            ]
          },
          "metadata": {},
          "execution_count": 20
        }
      ]
    },
    {
      "cell_type": "markdown",
      "source": [
        "# Mission 2"
      ],
      "metadata": {
        "id": "hcIV_9nypVg7"
      }
    },
    {
      "cell_type": "markdown",
      "source": [
        "Find a way to return the sums of the 2 columns in a list, by coding in Python. You must have 2 values in this list."
      ],
      "metadata": {
        "id": "uEawd8a9pbrH"
      }
    },
    {
      "cell_type": "code",
      "source": [
        "my_list = [\n",
        "           [12,5],\n",
        "           [8,32],\n",
        "           [25,6],\n",
        "           [7,14]\n",
        "]\n",
        "\n",
        "somme_colonne = [0] * len(my_list[0])\n",
        "\n",
        "for row in my_list:\n",
        "    for i in range(len(row)):\n",
        "      somme_colonne[i] += row[i]\n",
        "\n",
        "somme_colonne"
      ],
      "metadata": {
        "id": "Pfvwbn-kpXEw",
        "colab": {
          "base_uri": "https://localhost:8080/"
        },
        "outputId": "e7d2ae82-8e2f-4cfc-d908-3979dfc116f8"
      },
      "execution_count": 13,
      "outputs": [
        {
          "output_type": "execute_result",
          "data": {
            "text/plain": [
              "[52, 57]"
            ]
          },
          "metadata": {},
          "execution_count": 13
        }
      ]
    },
    {
      "cell_type": "markdown",
      "source": [
        "Now do the same thing, but coding this time in Numpy.  \n",
        "This time you have to propose 2 different solutions, coding in Numpy each time.\n"
      ],
      "metadata": {
        "id": "aj-Vz9hRqhqH"
      }
    },
    {
      "cell_type": "code",
      "source": [
        "data_np = np.array(my_list)\n",
        "somme_colonne = np.sum(data_np, axis=0)\n",
        "\n",
        "somme_colonne"
      ],
      "metadata": {
        "id": "pSTnC3PkqlXB",
        "colab": {
          "base_uri": "https://localhost:8080/"
        },
        "outputId": "5b683935-cd5f-486b-ff95-48e55ce6ce42"
      },
      "execution_count": 10,
      "outputs": [
        {
          "output_type": "execute_result",
          "data": {
            "text/plain": [
              "array([52, 57])"
            ]
          },
          "metadata": {},
          "execution_count": 10
        }
      ]
    },
    {
      "cell_type": "markdown",
      "source": [
        "# Mission 3"
      ],
      "metadata": {
        "id": "hjEZwMBirvL0"
      }
    },
    {
      "cell_type": "markdown",
      "source": [
        "This time, you will have to return the sum of all the elements included in the object below, coding in `Python`."
      ],
      "metadata": {
        "id": "5gNu1KM8r03j"
      }
    },
    {
      "cell_type": "code",
      "source": [
        "my_list = [\n",
        "           [12,5],\n",
        "           [8,32],\n",
        "           [25,6],\n",
        "           [7,14]\n",
        "]\n",
        "\n",
        "total = 0\n",
        "for sous_liste in my_list:\n",
        "    for element in sous_liste:\n",
        "        total += element\n",
        "\n",
        "total"
      ],
      "metadata": {
        "id": "lkJFTJucr0Nz",
        "colab": {
          "base_uri": "https://localhost:8080/"
        },
        "outputId": "7e9db9d1-5630-430d-fed5-6c102af31ab5"
      },
      "execution_count": 15,
      "outputs": [
        {
          "output_type": "execute_result",
          "data": {
            "text/plain": [
              "109"
            ]
          },
          "metadata": {},
          "execution_count": 15
        }
      ]
    },
    {
      "cell_type": "markdown",
      "source": [
        "As you might expect, you'll have to do this by coding in Numpy.\n",
        "You can propose only one solution. There is a very simple one, and a very effective one too."
      ],
      "metadata": {
        "id": "OpdM8v4vsSvq"
      }
    },
    {
      "cell_type": "code",
      "source": [
        "data_np = np.array(my_list)\n",
        "total = np.sum(data_np)\n",
        "\n",
        "total"
      ],
      "metadata": {
        "id": "BWVIH2GAuw_M",
        "colab": {
          "base_uri": "https://localhost:8080/"
        },
        "outputId": "48cd4533-8a46-41f3-bb02-3e94b45e0ef4"
      },
      "execution_count": 21,
      "outputs": [
        {
          "output_type": "execute_result",
          "data": {
            "text/plain": [
              "109"
            ]
          },
          "metadata": {},
          "execution_count": 21
        }
      ]
    },
    {
      "cell_type": "markdown",
      "source": [
        "# Mission 4"
      ],
      "metadata": {
        "id": "sJGBP8XmvNK-"
      }
    },
    {
      "cell_type": "markdown",
      "source": [
        "Find a way to calculate the following statistical indicators using NumPy functions on the array bellow.\n",
        "- mode\n",
        "- median\n",
        "- average\n",
        "- the range (the difference between max and min)\n",
        "- standard deviation\n",
        "- variance\n",
        "- the different quantiles\n",
        "\n"
      ],
      "metadata": {
        "id": "w6341JpRmDqw"
      }
    },
    {
      "cell_type": "code",
      "execution_count": 33,
      "metadata": {
        "id": "yXL0siorlg_b",
        "colab": {
          "base_uri": "https://localhost:8080/"
        },
        "outputId": "0ca5c220-60aa-4231-f732-cbb365d9f739"
      },
      "outputs": [
        {
          "output_type": "execute_result",
          "data": {
            "text/plain": [
              "34"
            ]
          },
          "metadata": {},
          "execution_count": 33
        }
      ],
      "source": [
        "array = [5, 34, 74, 65, 98, 81, 34, 61, 9, 4, 27, 42, 42, 78, 34, 59, 56, 82, 55, 63]\n",
        "\n",
        "mode = np.bincount(array).argmax()\n",
        "mode"
      ]
    },
    {
      "cell_type": "code",
      "source": [
        "median = np.median(array)\n",
        "median"
      ],
      "metadata": {
        "colab": {
          "base_uri": "https://localhost:8080/"
        },
        "id": "dZJVSDkKbqtp",
        "outputId": "a8835b3b-e6be-4bb8-aa99-2c67ffbf2382"
      },
      "execution_count": 27,
      "outputs": [
        {
          "output_type": "execute_result",
          "data": {
            "text/plain": [
              "55.5"
            ]
          },
          "metadata": {},
          "execution_count": 27
        }
      ]
    },
    {
      "cell_type": "code",
      "source": [
        "mean = np.mean(array)\n",
        "mean"
      ],
      "metadata": {
        "colab": {
          "base_uri": "https://localhost:8080/"
        },
        "id": "IkiVfjLccdaz",
        "outputId": "9c6088a9-e0b0-41ab-b0c2-e2d66846f60e"
      },
      "execution_count": 28,
      "outputs": [
        {
          "output_type": "execute_result",
          "data": {
            "text/plain": [
              "50.15"
            ]
          },
          "metadata": {},
          "execution_count": 28
        }
      ]
    },
    {
      "cell_type": "code",
      "source": [
        "range = np.ptp(array)\n",
        "range"
      ],
      "metadata": {
        "colab": {
          "base_uri": "https://localhost:8080/"
        },
        "id": "F2p7rxh9cfbo",
        "outputId": "7c2238dc-6702-440c-8f17-32543db279c1"
      },
      "execution_count": 29,
      "outputs": [
        {
          "output_type": "execute_result",
          "data": {
            "text/plain": [
              "94"
            ]
          },
          "metadata": {},
          "execution_count": 29
        }
      ]
    },
    {
      "cell_type": "code",
      "source": [
        "std_dev = np.std(array)\n",
        "std_dev"
      ],
      "metadata": {
        "colab": {
          "base_uri": "https://localhost:8080/"
        },
        "id": "P3a_q6Wachho",
        "outputId": "1410eb0b-53b3-490d-bfae-035d1272d2e1"
      },
      "execution_count": 30,
      "outputs": [
        {
          "output_type": "execute_result",
          "data": {
            "text/plain": [
              "26.031279261688233"
            ]
          },
          "metadata": {},
          "execution_count": 30
        }
      ]
    },
    {
      "cell_type": "code",
      "source": [
        "variance = np.var(array)\n",
        "variance"
      ],
      "metadata": {
        "colab": {
          "base_uri": "https://localhost:8080/"
        },
        "id": "do0liuN_cjeO",
        "outputId": "85c69c11-dd44-4664-bf53-37a7058645c9"
      },
      "execution_count": 31,
      "outputs": [
        {
          "output_type": "execute_result",
          "data": {
            "text/plain": [
              "677.6274999999998"
            ]
          },
          "metadata": {},
          "execution_count": 31
        }
      ]
    },
    {
      "cell_type": "code",
      "source": [
        "quartiles = np.percentile(array, [25, 50, 75])\n",
        "quartiles"
      ],
      "metadata": {
        "colab": {
          "base_uri": "https://localhost:8080/"
        },
        "id": "d5zyDfzDclUE",
        "outputId": "994cd5fe-821f-4d08-edb0-85f7cb89cb0c"
      },
      "execution_count": 32,
      "outputs": [
        {
          "output_type": "execute_result",
          "data": {
            "text/plain": [
              "array([34.  , 55.5 , 67.25])"
            ]
          },
          "metadata": {},
          "execution_count": 32
        }
      ]
    },
    {
      "cell_type": "code",
      "source": [],
      "metadata": {
        "id": "3OWp9WnxcpMm"
      },
      "execution_count": null,
      "outputs": []
    }
  ]
}