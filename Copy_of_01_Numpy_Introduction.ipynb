{
  "nbformat": 4,
  "nbformat_minor": 0,
  "metadata": {
    "colab": {
      "provenance": [],
      "include_colab_link": true
    },
    "kernelspec": {
      "name": "python3",
      "display_name": "Python 3"
    }
  },
  "cells": [
    {
      "cell_type": "markdown",
      "metadata": {
        "id": "view-in-github",
        "colab_type": "text"
      },
      "source": [
        "<a href=\"https://colab.research.google.com/github/Seblao/Projet-Air-BnB/blob/main/Copy_of_01_Numpy_Introduction.ipynb\" target=\"_parent\"><img src=\"https://colab.research.google.com/assets/colab-badge.svg\" alt=\"Open In Colab\"/></a>"
      ]
    },
    {
      "cell_type": "markdown",
      "metadata": {
        "id": "s6odsFbLpgIh"
      },
      "source": [
        "# NumPy : Introduction\n",
        "\n",
        "**NumPy allows you to manipulate data in the form of an array.**\n",
        "\n",
        "**Complete the missions below using NumPy.**"
      ]
    },
    {
      "cell_type": "code",
      "metadata": {
        "id": "sXzBVR4imVvO",
        "colab": {
          "base_uri": "https://localhost:8080/",
          "height": 35
        },
        "outputId": "f6d0c949-0ca0-487a-bf2c-01affd29b356"
      },
      "source": [
        "import numpy as np # Here we rename numpy as np, it's shorter, and everybody does that\n",
        "\n",
        "# Mission 1 : Display the version of NumPy you are running (as each library, you can use np.__version__)\n",
        "\n",
        "np.__version__"
      ],
      "execution_count": null,
      "outputs": [
        {
          "output_type": "execute_result",
          "data": {
            "text/plain": [
              "'1.26.4'"
            ],
            "application/vnd.google.colaboratory.intrinsic+json": {
              "type": "string"
            }
          },
          "metadata": {},
          "execution_count": 3
        }
      ]
    },
    {
      "cell_type": "code",
      "metadata": {
        "id": "vQGzQgU-phGc",
        "colab": {
          "base_uri": "https://localhost:8080/"
        },
        "outputId": "9bd30b35-e923-440c-8260-00e1e2d6cb35"
      },
      "source": [
        "# Mission 2 : Create a NumPy array with a length of 3, that contains this 3 floats: 0.8, 0.6, 0.4\n",
        "# Expected result: array([0.8, 0.6, 0.4])\n",
        "data_list = [[0.8, 0.6, 0.4]]\n",
        "data_np = np.array(data_list)\n",
        "\n",
        "data_np[0, 0:3]"
      ],
      "execution_count": null,
      "outputs": [
        {
          "output_type": "execute_result",
          "data": {
            "text/plain": [
              "array([0.8, 0.6, 0.4])"
            ]
          },
          "metadata": {},
          "execution_count": 6
        }
      ]
    },
    {
      "cell_type": "code",
      "metadata": {
        "id": "66-o1bXYqPC_",
        "colab": {
          "base_uri": "https://localhost:8080/"
        },
        "outputId": "00cec373-ed61-41c6-9f84-775ca48eb28e"
      },
      "source": [
        "# Mission 3 : Create a function that uses the np.random.random() function to return an array with 10 random elements,\n",
        "# all of which must be greater than 0.25 and less than 1.0\n",
        "\n",
        "# Example of expected result: array([0.3897948 , 0.82850041, 0.5499838 , 0.81940137, 0.92175875, 0.89634373, 0.26821861, 0.72376496, 0.81098623, 0.28192741])\n",
        "\n",
        "def generate_random_array():\n",
        "    random_array = np.random.random(10)\n",
        "\n",
        "    random_array = random_array * (1.0 - 0.25) + 0.25\n",
        "\n",
        "    return random_array\n",
        "\n",
        "array = generate_random_array()\n",
        "array"
      ],
      "execution_count": null,
      "outputs": [
        {
          "output_type": "execute_result",
          "data": {
            "text/plain": [
              "array([0.99509177, 0.62505808, 0.62230031, 0.7199305 , 0.64416089,\n",
              "       0.90103602, 0.59324984, 0.52817581, 0.87541662, 0.60239254])"
            ]
          },
          "metadata": {},
          "execution_count": 14
        }
      ]
    },
    {
      "cell_type": "code",
      "metadata": {
        "id": "hx8Ck-neqRZe"
      },
      "source": [
        "# Mission 4 : What does the np.empty() method do? Don't just copy the documentation, explain in your own words here\n",
        "\n",
        "# La fonction np.empty() permet de créer 1 tableau dont on specifie les dimenssions de ce dernier (lignes et colonnes) mais dont les valeurs à l'intérieur du tableau seront déterminer aléatoirement.\n",
        "# On ne donne pas de valeurs spécifiques."
      ],
      "execution_count": null,
      "outputs": []
    },
    {
      "cell_type": "code",
      "metadata": {
        "id": "q_BJsGjwqTQp",
        "colab": {
          "base_uri": "https://localhost:8080/"
        },
        "outputId": "147484ce-5615-4b4e-93a4-ce1c6e2b38fe"
      },
      "source": [
        "# Mission 5 : Create an array filled with only zeros. You can choose the length of this array.\n",
        "taille = 10\n",
        "tableau_zero = np.zeros(taille)\n",
        "tableau_zero\n",
        "\n",
        "# où :\n",
        "\n",
        "matrice = np.zeros((10,5))\n",
        "matrice"
      ],
      "execution_count": null,
      "outputs": [
        {
          "output_type": "execute_result",
          "data": {
            "text/plain": [
              "array([[0., 0., 0., 0., 0.],\n",
              "       [0., 0., 0., 0., 0.],\n",
              "       [0., 0., 0., 0., 0.],\n",
              "       [0., 0., 0., 0., 0.],\n",
              "       [0., 0., 0., 0., 0.],\n",
              "       [0., 0., 0., 0., 0.],\n",
              "       [0., 0., 0., 0., 0.],\n",
              "       [0., 0., 0., 0., 0.],\n",
              "       [0., 0., 0., 0., 0.],\n",
              "       [0., 0., 0., 0., 0.]])"
            ]
          },
          "metadata": {},
          "execution_count": 16
        }
      ]
    },
    {
      "cell_type": "code",
      "metadata": {
        "id": "KhQZPyHhqUql",
        "colab": {
          "base_uri": "https://localhost:8080/"
        },
        "outputId": "24181ee4-17f7-4105-b677-4c1b75f2110a"
      },
      "source": [
        "# Mission 6 : Create an array filled with 10 random integers.\n",
        "tableau_entiers = np.random.randint(0, 100, size=10)\n",
        "tableau_entiers"
      ],
      "execution_count": null,
      "outputs": [
        {
          "output_type": "execute_result",
          "data": {
            "text/plain": [
              "array([67, 94, 21, 36, 21, 45, 70, 29, 95, 59])"
            ]
          },
          "metadata": {},
          "execution_count": 20
        }
      ]
    },
    {
      "cell_type": "code",
      "metadata": {
        "id": "v3vqX26BqWTo",
        "colab": {
          "base_uri": "https://localhost:8080/"
        },
        "outputId": "d5d760d9-e1f6-498d-9ef2-f13fc9c57ce3"
      },
      "source": [
        "# Mission 7 : Create an array that contains 50 values randomly selected only from these numbers: 0, 1, 2, 3, 4, 5, 6, 7.\n",
        "tableau_aleatoire = np.random.choice([0, 1, 2, 3, 4, 5, 6, 7], size=50)\n",
        "tableau_aleatoire\n"
      ],
      "execution_count": null,
      "outputs": [
        {
          "output_type": "execute_result",
          "data": {
            "text/plain": [
              "array([5, 2, 3, 5, 2, 4, 3, 6, 6, 3, 4, 5, 0, 7, 3, 7, 0, 7, 3, 5, 4, 3,\n",
              "       3, 3, 0, 7, 1, 1, 3, 2, 0, 5, 0, 2, 7, 1, 5, 6, 5, 1, 3, 3, 1, 0,\n",
              "       1, 7, 0, 1, 4, 2])"
            ]
          },
          "metadata": {},
          "execution_count": 21
        }
      ]
    },
    {
      "cell_type": "code",
      "source": [],
      "metadata": {
        "id": "_-gpQDO92rT8"
      },
      "execution_count": null,
      "outputs": []
    }
  ]
}